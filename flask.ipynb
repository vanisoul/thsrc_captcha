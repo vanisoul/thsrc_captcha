{
 "cells": [
  {
   "cell_type": "code",
   "execution_count": 1,
   "metadata": {},
   "outputs": [
    {
     "name": "stdout",
     "output_type": "stream",
     "text": [
      "start to process image from index: 0\n",
      "completed\n"
     ]
    },
    {
     "name": "stderr",
     "output_type": "stream",
     "text": [
      "2024-02-12 10:50:09.793918: I external/local_tsl/tsl/cuda/cudart_stub.cc:31] Could not find cuda drivers on your machine, GPU will not be used.\n",
      "2024-02-12 10:50:09.834515: E external/local_xla/xla/stream_executor/cuda/cuda_dnn.cc:9261] Unable to register cuDNN factory: Attempting to register factory for plugin cuDNN when one has already been registered\n",
      "2024-02-12 10:50:09.834544: E external/local_xla/xla/stream_executor/cuda/cuda_fft.cc:607] Unable to register cuFFT factory: Attempting to register factory for plugin cuFFT when one has already been registered\n",
      "2024-02-12 10:50:09.837332: E external/local_xla/xla/stream_executor/cuda/cuda_blas.cc:1515] Unable to register cuBLAS factory: Attempting to register factory for plugin cuBLAS when one has already been registered\n",
      "2024-02-12 10:50:09.846623: I external/local_tsl/tsl/cuda/cudart_stub.cc:31] Could not find cuda drivers on your machine, GPU will not be used.\n",
      "2024-02-12 10:50:09.847832: I tensorflow/core/platform/cpu_feature_guard.cc:182] This TensorFlow binary is optimized to use available CPU instructions in performance-critical operations.\n",
      "To enable the following instructions: AVX2 FMA, in other operations, rebuild TensorFlow with the appropriate compiler flags.\n",
      "2024-02-12 10:50:10.531417: W tensorflow/compiler/tf2tensorrt/utils/py_utils.cc:38] TF-TRT Warning: Could not find TensorRT\n"
     ]
    }
   ],
   "source": [
    "from flask import Flask, request, jsonify\n",
    "from PIL import Image\n",
    "from werkzeug.utils import secure_filename\n",
    "import os\n",
    "import tempfile\n",
    "from preprocessBatch import preprocessing\n",
    "from keras.models import load_model\n",
    "import cv2\n",
    "import numpy as np\n",
    "import uuid  # Use uuid to generate unique file names\n",
    "\n",
    "app = Flask(__name__)\n",
    "\n",
    "@app.route('/predict', methods=['POST'])\n",
    "def predict():\n",
    "    allowedChars = '234579ACFHKMNPQRTYZ'\n",
    "    WIDTH = 140\n",
    "    HEIGHT = 48\n",
    "\n",
    "    # check if the post request has the file part\n",
    "    if 'file' not in request.files:\n",
    "        return jsonify(success=False, captcha=\"No image file part\")\n",
    "\n",
    "    file = request.files['file']\n",
    "\n",
    "    # Create a unique filename using uuid\n",
    "    filename = secure_filename(str(uuid.uuid4()))\n",
    "\n",
    "    # Save file to temp path\n",
    "    temp_dir = tempfile.gettempdir()\n",
    "    temp_path = os.path.join(temp_dir, filename)\n",
    "    file.save(temp_path)\n",
    "\n",
    "    img = Image.open(temp_path)\n",
    "    img = img.resize((WIDTH, HEIGHT), Image.LANCZOS)\n",
    "    # convert rgba to rgb\n",
    "    img = img.convert('RGB')\n",
    "\n",
    "    # Save processed image to temp path\n",
    "    temp_path_processed = os.path.join(temp_dir, 'captcha.jpg')\n",
    "    img.save(temp_path_processed, \"JPEG\")\n",
    "\n",
    "    preprocessing(temp_path_processed, temp_path_processed)\n",
    "\n",
    "    train_data = np.stack([np.array(cv2.imread(temp_path_processed))/255.0])\n",
    "    model = load_model(\"thsrc_cnn_model.hdf5\")\n",
    "    prediction = model.predict(train_data)\n",
    "\n",
    "    predict_captcha = ''\n",
    "    for predict in prediction:\n",
    "        value = np.argmax(predict[0])\n",
    "        predict_captcha += allowedChars[value]\n",
    "\n",
    "    # Remove temp files\n",
    "    os.remove(temp_path)\n",
    "    os.remove(temp_path_processed)\n",
    "\n",
    "    return jsonify(success=True, captcha=predict_captcha)\n",
    "\n"
   ]
  }
 ],
 "metadata": {
  "kernelspec": {
   "display_name": "Python 3",
   "language": "python",
   "name": "python3"
  },
  "language_info": {
   "codemirror_mode": {
    "name": "ipython",
    "version": 3
   },
   "file_extension": ".py",
   "mimetype": "text/x-python",
   "name": "python",
   "nbconvert_exporter": "python",
   "pygments_lexer": "ipython3",
   "version": "3.10.12"
  }
 },
 "nbformat": 4,
 "nbformat_minor": 2
}
